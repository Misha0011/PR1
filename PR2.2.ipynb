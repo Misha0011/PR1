{
 "cells": [
  {
   "cell_type": "code",
   "execution_count": 1,
   "id": "4924030e-9682-48a9-a99e-ce21afeaa70a",
   "metadata": {},
   "outputs": [
    {
     "name": "stdout",
     "output_type": "stream",
     "text": [
      "Found segment:  [-1, 0]\n",
      "Found segment:  [1, 2]\n",
      "Solution of a nonlinear equation on a segment [0.0, 1.0]\n",
      "x=  -0.24903   -   Chord method\n"
     ]
    },
    {
     "name": "stderr",
     "output_type": "stream",
     "text": [
      "C:\\Users\\tanya\\AppData\\Local\\Temp\\ipykernel_2772\\2202140850.py:31: DeprecationWarning: scipy.misc.derivative is deprecated in SciPy v1.10.0; and will be completely removed in SciPy v1.12.0. You may consider using findiff: https://github.com/maroba/findiff or numdifftools: https://github.com/pbrod/numdifftools\n",
      "  if (f(a)*derivative(f,a,n=2)>0):\n"
     ]
    }
   ],
   "source": [
    "import math\n",
    "import numpy as np\n",
    "from scipy.misc import derivative\n",
    "def f(x):\n",
    "  return pow(x, 4) - 4*x - 1\n",
    "eps=0.0001\n",
    "\n",
    "def find_segments(): \n",
    "    search_range = np.arange(-10, 10, 1)\n",
    "    \n",
    "    a = None\n",
    "    previous_x = None\n",
    "    current_x  = None\n",
    "    segments = []\n",
    "\n",
    "    for x in search_range:\n",
    "        x = round(x, 4)\n",
    "        current_x = f(x)\n",
    "        if previous_x != None and previous_x * current_x < 0:\n",
    "            segments.append((a, x))\n",
    "        a = x\n",
    "        previous_x = current_x\n",
    "    return segments\n",
    "\n",
    "segments = find_segments()\n",
    "for a, b in segments:\n",
    "    print(f'Found segment:  [{a}, {b}]')\n",
    "\n",
    "\n",
    "def hord (a,b,eps): #метод хорд\n",
    "    if (f(a)*derivative(f,a,n=2)>0):\n",
    "        x0=a\n",
    "        xi=b\n",
    "    else:\n",
    "        x0=b\n",
    "        xi=a\n",
    "    xi_1=xi-(xi-x0)*f(xi)/(f(xi)-f(x0))\n",
    "    while (abs(xi_1-xi)>eps):\n",
    "        xi=xi_1\n",
    "        xi_1=xi-(xi-x0)*f(xi)/(f(xi)-f(x0))\n",
    "    print('x= ', round (xi_1,5) , '  -   Chord method')\n",
    "a=0. \n",
    "b=1. \n",
    "print (f'Solution of a nonlinear equation on a segment [{a}, {b}]')\n",
    "hord (a,b,eps) \n",
    "\n"
   ]
  },
  {
   "cell_type": "code",
   "execution_count": null,
   "id": "cf68be8c-e74f-4a33-bf90-754179fc9fb3",
   "metadata": {},
   "outputs": [],
   "source": []
  }
 ],
 "metadata": {
  "kernelspec": {
   "display_name": "Python 3 (ipykernel)",
   "language": "python",
   "name": "python3"
  },
  "language_info": {
   "codemirror_mode": {
    "name": "ipython",
    "version": 3
   },
   "file_extension": ".py",
   "mimetype": "text/x-python",
   "name": "python",
   "nbconvert_exporter": "python",
   "pygments_lexer": "ipython3",
   "version": "3.11.5"
  }
 },
 "nbformat": 4,
 "nbformat_minor": 5
}
