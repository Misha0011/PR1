{
 "cells": [
  {
   "cell_type": "code",
   "execution_count": 2,
   "id": "153d18c7-deec-4c51-99d1-7bf53d28acd8",
   "metadata": {},
   "outputs": [
    {
     "name": "stdout",
     "output_type": "stream",
     "text": [
      "Found segment:  [-1, 0]\n",
      "Found segment:  [1, 2]\n",
      "Solution of a nonlinear equation on a segment [0.0, 1.0]\n",
      "x=  0.99997   -   Half division method\n"
     ]
    }
   ],
   "source": [
    "\n",
    "import math\n",
    "import numpy as np\n",
    "from scipy.misc import derivative\n",
    "def f(x):\n",
    "   return pow(x, 4) - 4*x - 1\n",
    "eps=0.0001\n",
    "def find_segments(): #відокремлюємо корені\n",
    "    search_range = np.arange(-10, 10, 1)\n",
    "    a = None\n",
    "    previous_x = None\n",
    "    current_x  = None\n",
    "    segments = []\n",
    "\n",
    "    for x in search_range:\n",
    "        x = round(x, 4)\n",
    "        current_x = f(x)\n",
    "        if previous_x != None and previous_x * current_x < 0:\n",
    "            segments.append((a, x))\n",
    "        a = x\n",
    "        previous_x = current_x\n",
    "    return segments\n",
    "\n",
    "segments = find_segments()\n",
    "for a, b in segments:\n",
    "    print(f'Found segment:  [{a}, {b}]')\n",
    "\n",
    "def rec(a, b, eps): #метод половинного ділення\n",
    "    while (abs(a-b) > eps):\n",
    "        if f(a)*f((a+b)/2)<0: \n",
    "            b = (a+b)/2 \n",
    "        else: \n",
    "            a = (a+b)/2\n",
    "        x = (a+b)/2\n",
    "    \n",
    "    print ('x= ', round(x,5), '  -   Half division method')\n",
    "\n",
    "a=0. #початок першого відрізка\n",
    "b=1. # кінець першого відрізка\n",
    "print (f'Solution of a nonlinear equation on a segment [{a}, {b}]')\n",
    "rec (a,b,eps) #викликаємо метод пол. ділення для першого відрізка\n"
   ]
  },
  {
   "cell_type": "code",
   "execution_count": null,
   "id": "fbaa6c40-0431-4324-9dd3-6ff69515477c",
   "metadata": {},
   "outputs": [],
   "source": []
  }
 ],
 "metadata": {
  "kernelspec": {
   "display_name": "Python 3 (ipykernel)",
   "language": "python",
   "name": "python3"
  },
  "language_info": {
   "codemirror_mode": {
    "name": "ipython",
    "version": 3
   },
   "file_extension": ".py",
   "mimetype": "text/x-python",
   "name": "python",
   "nbconvert_exporter": "python",
   "pygments_lexer": "ipython3",
   "version": "3.11.5"
  }
 },
 "nbformat": 4,
 "nbformat_minor": 5
}
